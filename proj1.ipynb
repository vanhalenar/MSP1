{
 "cells": [
  {
   "cell_type": "markdown",
   "metadata": {},
   "source": [
    "# Projekt MSP1 / 2024\n",
    "Cílem tohoto projektu je se seznámit s programovými nástroji využívaných ve statistice a osvojit si základní procedury. Projekt není primárně zaměřen na efektivitu využívání programového vybavení (i když úplně nevhodné konstrukce mohou mít vliv na hodnocení), ale nejvíce nás zajímají vaše statistické závěry a způsob vyhodnocení. Dbejte také na to, že každý graf musí splňovat nějaké podmínky - přehlednost, čitelnost, popisky.\n",
    "\n",
    "V projektu budete analyzovat časy běhu šesti různých konfigurací algoritmů. Ke každé konfiguraci vzniklo celkem 200 nezávislých běhů, jejichž logy máte k dispozici v souboru [logfiles.zip](logfiles.zip).\n",
    "\n",
    "Pokud nemáte rozchozené prostředí pro pro spouštění Jupyter notebooku, můžete využití službu [Google Colab](https://colab.google/). Jakákoliv spolupráce, sdílení řešení a podobně je zakázána!\n",
    "\n",
    "S případnými dotazy se obracejte na Vojtěcha Mrázka (mrazek@fit.vutbr.cz).\n",
    "\n",
    "__Odevzdání:__ tento soubor (není potřeba aby obsahoval výstupy skriptů) do neděle 27. 10. 2024 v IS VUT. Kontrola bude probíhat na Pythonu 3.12.3 (standardní instalace Ubuntu); neočekává se však to, že byste používali nějaké speciality a nekompatibilní knihovny. V případě nesouladu verzí a podobných problémů budete mít možnost reklamace a prokázání správnosti funkce. Bez vyplnění vašich komentářů a závěrů do označených buněk nebude projekt hodnocen!\n",
    "\n",
    "__Upozornění:__ nepřidávejte do notebooku další buňky, odpovídejte tam, kam se ptáme (textové komentáře do Markdown buněk)\n",
    "\n",
    "__Tip:__ před odevzdáním resetujte celý notebook a zkuste jej spustit od začátku. Zamezíte tak chybám krokování a editací, kdy výsledek z buňky na konci použijete na začátku."
   ]
  },
  {
   "cell_type": "markdown",
   "metadata": {},
   "source": [
    "__OTÁZKA K DOPLNĚNÍ:__\n",
    "\n",
    "Timotej Halenár\n",
    "\n",
    "xhalen00"
   ]
  },
  {
   "cell_type": "markdown",
   "metadata": {},
   "source": [
    "## Načtení potřebných knihoven\n",
    "Načtěte knihovny, které jsou nutné pro zpracování souborů a práci se statistickými funkcemi."
   ]
  },
  {
   "cell_type": "code",
   "execution_count": 19,
   "metadata": {},
   "outputs": [],
   "source": [
    "import numpy as np\n",
    "import pandas as pd\n",
    "import matplotlib.pyplot as plt\n",
    "import scipy.stats as stats\n",
    "import seaborn as sns\n",
    "import json\n",
    "from zipfile import ZipFile"
   ]
  },
  {
   "cell_type": "markdown",
   "metadata": {},
   "source": [
    "## Načtení dat do DataFrame\n",
    "Ze souboru `logfiles.zip` umístěném ve stejném adresáři načtěte data a vytvořte Pandas DataFrame.\n",
    "\n",
    "Výsledky jsou uložené ve formátu JSON - pro zpracování použijte knihovnu `json`.\n",
    "Můžete využít následující kostru - je vhodné pracovat přímo se ZIP souborem. Jedinou nevýhodou může být to, že vám bude vracet _byte_ objekt, který musíte přes funkci `decode` zpracovat.\n",
    "\n",
    "Upravte také pomocí funkce `.astype()` datové typy patřičných sloupců.\n",
    "\n",
    "```py\n",
    "data = []\n",
    "with ZipFile(\"logfiles.zip\") as zf:\n",
    "    for filename in zf.namelist():\n",
    "        # TODO test názvu souboru\n",
    "        with zf.open(filename, \"r\") as f:\n",
    "            pass # vytvořte slovník\n",
    "\n",
    "df = pd.DataFrame(data)\n",
    "df\n",
    "```"
   ]
  },
  {
   "cell_type": "code",
   "execution_count": null,
   "metadata": {},
   "outputs": [],
   "source": [
    "data = []\n",
    "with ZipFile(\"logfiles.zip\") as zf:\n",
    "    for filename in zf.namelist():\n",
    "        if filename.endswith('.json'):\n",
    "            with zf.open(filename, \"r\") as f:\n",
    "                content = f.read().decode('utf-8')\n",
    "                json_data = json.loads(content)\n",
    "                data.append(json_data)\n",
    "\n",
    "df = pd.DataFrame(data)\n",
    "df"
   ]
  },
  {
   "cell_type": "markdown",
   "metadata": {},
   "source": [
    "## Analýza a čištění dat\n",
    "Vhodným způsobem pro všechny konfigurace analyzujte časy běhů a pokud tam jsou, identifikujte hodnoty, které jsou chybné. Vyberte vhodný graf, který zobrazí samostatně jednotlivé konfigurace."
   ]
  },
  {
   "cell_type": "code",
   "execution_count": null,
   "metadata": {},
   "outputs": [],
   "source": [
    "q_low = df[\"runtime\"].quantile(0.01)\n",
    "q_hi  = df[\"runtime\"].quantile(0.99)\n",
    "\n",
    "outliers = df[(df['runtime'] >= q_hi) | (df['runtime'] <= q_low)]\n",
    "\n",
    "print(\"outliers count: \", outliers.shape[0])\n",
    "\n",
    "#Na boxplote sú najvhodnejšie zobrazení outliers\n",
    "sns.boxplot(x='configuration', y='runtime', data=df)"
   ]
  },
  {
   "cell_type": "markdown",
   "metadata": {},
   "source": [
    "__OTÁZKA K DOPLNĚNÍ:__\n",
    "\n",
    "_Objevily se nějaké chybné hodnoty? Proč tam jsou s ohledem na to, že se jedná o běhy algoritmů? Proč jste zvolili tento typ grafu?_\n",
    "\n",
    "- ak algoritmus zlyhal, môže mať čas behu 0\n",
    "- príp. ak algoritmus beží príliš dlho, dostane sa na maximálnu hodnotu (TIMEOUT) 1800\n",
    "- na boxplote je jasne vidieť outliers a dá sa ľahko porovnať jedna konfigurácia s druhou\n"
   ]
  },
  {
   "cell_type": "markdown",
   "metadata": {},
   "source": [
    "Vyčistěte dataframe `df` tak, aby tam tyto hodnoty nebyly a ukažte znovu analýzu toho, že čištění dat bylo úspěšné. Odtud dále pracujte s vyčištěným datasetem."
   ]
  },
  {
   "cell_type": "code",
   "execution_count": null,
   "metadata": {},
   "outputs": [],
   "source": [
    "df = df[(df['runtime'] < q_hi) & (df['runtime'] > q_low)]\n",
    "\n",
    "sns.boxplot(x='configuration', y='runtime', data=df)"
   ]
  },
  {
   "cell_type": "markdown",
   "metadata": {},
   "source": [
    "## Deskriptivní popis hodnot\n",
    "Vypište pro jednotlivé konfigurace základní deskriptivní parametry.  \n",
    "\n",
    "__TIP__ pokud výsledky uložíte jako Pandas DataFrame, zobrazí se v tabulce."
   ]
  },
  {
   "cell_type": "code",
   "execution_count": null,
   "metadata": {},
   "outputs": [],
   "source": [
    "df_1 = df[df['configuration'] == \"config1\"]\n",
    "df_2 = df[df['configuration'] == \"config2\"]\n",
    "df_3 = df[df['configuration'] == \"config3\"]\n",
    "df_4 = df[df['configuration'] == \"config4\"]\n",
    "df_5 = df[df['configuration'] == \"config5\"]\n",
    "df_6 = df[df['configuration'] == \"config6\"]\n",
    "\n",
    "def get_stats(frame):\n",
    "    stats = frame[\"runtime\"].describe()\n",
    "    print(stats[['mean', 'std', 'min', 'max']])\n",
    "    print(\"Run count:\", frame.shape[0])\n",
    "    #print(stats)\n",
    "\n",
    "print(\"*********************************\")\n",
    "print(\"Config 1\")\n",
    "get_stats(df_1)\n",
    "print(\"*********************************\")\n",
    "print(\"Config 2\")\n",
    "get_stats(df_2)\n",
    "print(\"*********************************\")\n",
    "print(\"Config 3\")\n",
    "get_stats(df_3)\n",
    "print(\"*********************************\")\n",
    "print(\"Config 4\")\n",
    "get_stats(df_4)\n",
    "print(\"*********************************\")\n",
    "print(\"Config 5\")\n",
    "get_stats(df_5)\n",
    "print(\"*********************************\")\n",
    "print(\"Config 6\")\n",
    "get_stats(df_6)\n",
    "print(\"*********************************\")\n"
   ]
  },
  {
   "cell_type": "markdown",
   "metadata": {},
   "source": [
    "__OTÁZKA K DOPLNĚNÍ:__\n",
    "\n",
    "_Okomentujte, co všechno můžeme z parametrů vyčíst._\n",
    "\n",
    "Konfigurácie 1 a 6 sú na základe strednej hodnoty najviac porovnateľné, ale konfigurácia 6 má značne vyšší rozptyl, a teda je menej konzistentná. Naopak pri konfigurácii 1 je rozptyl nízky, časy všetkých behov sú bližšie pri sebe. Pri týchto dvoch konfiguráciach nemôžme jasne určiť, ktorá je rýchlejšia. Najrýchlejší beh konfigurácie 6 je rýchlejší, ako pri konfigurácii 1, zároveň však aj naopak najpomalší beh konfigurácie 6 je pomalší ako všetky behy 1. konfigurácie."
   ]
  },
  {
   "cell_type": "markdown",
   "metadata": {},
   "source": [
    "## Vizualizace\n",
    "Vizualizujte časy běhů algoritmů tak, aby byl v jednom grafu zřejmý i rozptyl hodnot, avšak bylo možné porovnání. Zvolte vhodný graf, který pak níže komentujte."
   ]
  },
  {
   "cell_type": "code",
   "execution_count": null,
   "metadata": {},
   "outputs": [],
   "source": [
    "sns.violinplot(x='configuration', y='runtime', data=df)"
   ]
  },
  {
   "cell_type": "markdown",
   "metadata": {},
   "source": [
    "__OTÁZKA K DOPLNĚNÍ:__\n",
    "\n",
    "_Okomentujte  výsledky z tabulky._\n",
    "\n",
    "Na violinplote je najlepšie vidno rozptyl: pri vysokom rozptyle je graf úzky a natiahnutý, naopak pri nízky rozptyl je graf tučnejší. Konfigurácie 4 a 6 majú najvyšší rozptyl, a teda sú najmenej konzistentné. očividne najmenší rozptyl má konfigurácia 1."
   ]
  },
  {
   "cell_type": "markdown",
   "metadata": {},
   "source": [
    "## Určení efektivity konfigurací algoritmů\n",
    "Nás ale zajímá, jaká konfigurace je nejrychlejší. Z výše vykresleného grafu můžeme vyloučit některé konfigurace. Existuje tam však minimálně jedna dvojice, u které nedokážeme jednoznačně určit, která je lepší - pokud nebudeme porovnávat pouze extrémní hodnoty, které mohou být dané náhodou, ale celkově. Proto proveďte vhodný test významnosti - v následující části diskutujte zejména rozložení dat (i s odkazem na předchozí buňky, variabilitu vs polohu a podobně). Je nutné každý logický krok a výběry statistických funkcí komentovat. \n",
    "\n",
    "Vužijte vhodnou funkci z knihovny `scipy.stats` a funkci poté __implementujte sami__ na základě základních matematických funkcí knihovny `numpy` případně i funkcí pro výpočet vybraného rozložení v [scipy.stats](https://docs.scipy.org/doc/scipy/reference/stats.html). Při vlastní implementaci není nutné se primárně soustředit na efektivitu výpočtu (není potřeba využít všechny funkce numpy, můžete použít normální cykly a podobně - v hodnocení však bude zahrnuta přehlednost a neměly by se objevit jasné chyby, jako je zvýšení třídy složitosti a podobně)."
   ]
  },
  {
   "cell_type": "markdown",
   "metadata": {},
   "source": [
    "__OTÁZKA K DOPLNĚNÍ:__\n",
    "\n",
    "_Jaká data budete zkoumat? Jaké mají rozložení a parametry (např. varianci) a jaký test použijete? Jaká je nulová hypotéza? Jak se liší variabilita a poloha vybraných konfigurací?_\n",
    "\n",
    "Konfigurácie 1 a 6 vyplývajú z grafu ako jediní kandidáti na najrýchlejšiu konfiguráciu. Z grafu vyššie vieme určiť, že majú približne normálne rozloženie, a poznáme ich strednú hodnotu a odchýlku. Vykonáme t-test pomocou funkcie `stats.ttest_ind` s prepínačom `equal_var=False`, pretože ich rozptyly sú zásadne rozdielne. Tým uskutočníme Welchov t-test.\n",
    "\n",
    "H0: Konfigurácie 1 a 6 majú rovnaké priemerné (očakávané) hodnoty\n",
    "\n",
    "\n",
    "H1: Konfigurácie 1 a 6 majú rozdielne priemerné (očakávané) hodnoty"
   ]
  },
  {
   "cell_type": "code",
   "execution_count": null,
   "metadata": {},
   "outputs": [],
   "source": [
    "conf_1 = df[df['configuration'] == 'config1']['runtime']\n",
    "conf_6 = df[df['configuration'] == 'config6']['runtime']\n",
    "\n",
    "res = stats.normaltest(conf_1)\n",
    "\n",
    "t_stat, t_val = stats.ttest_ind(conf_1, conf_6, equal_var=False)\n",
    "\n",
    "\n",
    "print(f\"t-statistic: {t_stat}, p-value: {t_val}\")"
   ]
  },
  {
   "cell_type": "markdown",
   "metadata": {},
   "source": [
    "__OTÁZKA K DOPLNĚNÍ:__\n",
    "\n",
    "_Jaký je závěr statistického testu?_\n",
    "\n",
    "keďže p-hodnota je veľmi malá, zamietame nulovú hypotézu, ktorá tvrdí, že konfigurácie 1 a 6 majú rovnaké očakávané hodnoty. Z výsledku testu vyplýva, že rozdiel v stredných hodnotách konfigurácií 1 a 6 je značný. Môžeme na základe nižšej strednej hodnoty konfigurácie č. 1 uznať, že je rýchlejšia."
   ]
  },
  {
   "cell_type": "markdown",
   "metadata": {},
   "source": [
    "### Vlastní implementace\n",
    "Implementujte stejný test pomocí knihovních funkcí a ukažte, že je výsledek stejný."
   ]
  },
  {
   "cell_type": "code",
   "execution_count": null,
   "metadata": {},
   "outputs": [],
   "source": [
    "a = np.mean(conf_1)- np.mean(conf_6)\n",
    "\n",
    "var_6 = np.std(conf_6, ddof=1)**2\n",
    "var_1 = np.std(conf_1, ddof=1)**2\n",
    "\n",
    "b = np.sqrt(var_6/conf_6.shape + var_1/conf_1.shape)\n",
    "\n",
    "# t-statistika\n",
    "stat = a/b\n",
    "\n",
    "# stupne volnosti\n",
    "deg = conf_1.shape[0] + conf_6.shape[0] - 2\n",
    "\n",
    "crit = stats.t.ppf(0.95, deg)\n",
    "\n",
    "#p-hodnota\n",
    "p = (1 - stats.t.cdf(np.abs(stat), deg)) * 2\n",
    "\n",
    "print(stat, p)\n"
   ]
  }
 ],
 "metadata": {
  "kernelspec": {
   "display_name": ".venv",
   "language": "python",
   "name": "python3"
  },
  "language_info": {
   "codemirror_mode": {
    "name": "ipython",
    "version": 3
   },
   "file_extension": ".py",
   "mimetype": "text/x-python",
   "name": "python",
   "nbconvert_exporter": "python",
   "pygments_lexer": "ipython3",
   "version": "3.12.3"
  }
 },
 "nbformat": 4,
 "nbformat_minor": 4
}
